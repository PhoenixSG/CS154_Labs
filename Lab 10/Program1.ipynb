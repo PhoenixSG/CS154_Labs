{
 "cells": [
  {
   "cell_type": "code",
   "execution_count": 1,
   "id": "thousand-service",
   "metadata": {},
   "outputs": [],
   "source": [
    "#1simple\n",
    "#This is the way of commenting, using #"
   ]
  },
  {
   "cell_type": "code",
   "execution_count": 2,
   "id": "satisfied-parish",
   "metadata": {},
   "outputs": [],
   "source": [
    "a=10\n",
    "b=20\n",
    "c=a+b"
   ]
  },
  {
   "cell_type": "code",
   "execution_count": 3,
   "id": "micro-moore",
   "metadata": {},
   "outputs": [
    {
     "name": "stdout",
     "output_type": "stream",
     "text": [
      "sum: 10 20 30\n"
     ]
    }
   ],
   "source": [
    "print('sum:',a,b,c)"
   ]
  },
  {
   "cell_type": "code",
   "execution_count": 4,
   "id": "lined-release",
   "metadata": {},
   "outputs": [],
   "source": [
    "# 2lists\n",
    "# Demonstrates use of lists, and ease of creating and dealing with lists."
   ]
  },
  {
   "cell_type": "code",
   "execution_count": 5,
   "id": "hollow-atmosphere",
   "metadata": {},
   "outputs": [],
   "source": [
    "a=[1,2,3,4,5]"
   ]
  },
  {
   "cell_type": "code",
   "execution_count": 6,
   "id": "positive-pattern",
   "metadata": {},
   "outputs": [
    {
     "name": "stdout",
     "output_type": "stream",
     "text": [
      "[1, 2, 3, 4, 5]\n"
     ]
    }
   ],
   "source": [
    "print(a)\n"
   ]
  },
  {
   "cell_type": "code",
   "execution_count": 7,
   "id": "powered-expression",
   "metadata": {},
   "outputs": [],
   "source": [
    "b=[4,6,3]"
   ]
  },
  {
   "cell_type": "code",
   "execution_count": 8,
   "id": "other-exemption",
   "metadata": {},
   "outputs": [
    {
     "name": "stdout",
     "output_type": "stream",
     "text": [
      "[4, 6, 3]\n"
     ]
    }
   ],
   "source": [
    "print(b)"
   ]
  },
  {
   "cell_type": "code",
   "execution_count": 9,
   "id": "military-soviet",
   "metadata": {},
   "outputs": [],
   "source": [
    "c=a+b\n",
    "d=b+a\n",
    "# + is not commutative for lists, order of attaching is important."
   ]
  },
  {
   "cell_type": "code",
   "execution_count": 10,
   "id": "confirmed-jenny",
   "metadata": {},
   "outputs": [
    {
     "name": "stdout",
     "output_type": "stream",
     "text": [
      "[1, 2, 3, 4, 5, 4, 6, 3]\n",
      "[4, 6, 3, 1, 2, 3, 4, 5]\n"
     ]
    }
   ],
   "source": [
    "print(c)\n",
    "print(d)"
   ]
  },
  {
   "cell_type": "code",
   "execution_count": 11,
   "id": "uniform-beach",
   "metadata": {},
   "outputs": [],
   "source": [
    "b.append(20)"
   ]
  },
  {
   "cell_type": "code",
   "execution_count": 12,
   "id": "rural-upgrade",
   "metadata": {},
   "outputs": [
    {
     "name": "stdout",
     "output_type": "stream",
     "text": [
      "[4, 6, 3, 20]\n"
     ]
    }
   ],
   "source": [
    "print(b)"
   ]
  },
  {
   "cell_type": "code",
   "execution_count": 13,
   "id": "aging-competition",
   "metadata": {},
   "outputs": [
    {
     "name": "stdout",
     "output_type": "stream",
     "text": [
      "[1, 2, 3, 4, 5, 4, 6, 3]\n"
     ]
    }
   ],
   "source": [
    "print(c)"
   ]
  },
  {
   "cell_type": "code",
   "execution_count": 14,
   "id": "breathing-settle",
   "metadata": {},
   "outputs": [],
   "source": [
    "#3if.py\n",
    "# there are no {}, indentation in important"
   ]
  },
  {
   "cell_type": "code",
   "execution_count": 15,
   "id": "aboriginal-wales",
   "metadata": {},
   "outputs": [],
   "source": [
    "a=2\n",
    "b=3"
   ]
  },
  {
   "cell_type": "code",
   "execution_count": 16,
   "id": "documented-accordance",
   "metadata": {},
   "outputs": [
    {
     "name": "stdout",
     "output_type": "stream",
     "text": [
      "2\n"
     ]
    }
   ],
   "source": [
    "if a<b:\n",
    "    print(a)\n",
    "else:\n",
    "    print(b)"
   ]
  },
  {
   "cell_type": "code",
   "execution_count": 17,
   "id": "necessary-gather",
   "metadata": {},
   "outputs": [],
   "source": [
    "#4 for-lists.py"
   ]
  },
  {
   "cell_type": "code",
   "execution_count": 18,
   "id": "improved-territory",
   "metadata": {},
   "outputs": [
    {
     "name": "stdout",
     "output_type": "stream",
     "text": [
      "1\n",
      "2\n",
      "4\n",
      "7\n",
      "3\n"
     ]
    }
   ],
   "source": [
    "l=[1,2,4,7,3]\n",
    "for i in l:\n",
    "    print(i)\n",
    "#iterator moves in the list in order of the list\n",
    "#in is a membership operator. It iterates over the elements of the list.\n",
    "#no explicit index\n",
    "#no explicit index. Avoid updating and termination condition. No need for variables.\n",
    "#powerful construct in funtional paradigm.\n"
   ]
  },
  {
   "cell_type": "code",
   "execution_count": 19,
   "id": "instrumental-cherry",
   "metadata": {},
   "outputs": [],
   "source": [
    "#5for-strings.py"
   ]
  },
  {
   "cell_type": "code",
   "execution_count": 20,
   "id": "loose-exception",
   "metadata": {},
   "outputs": [
    {
     "name": "stdout",
     "output_type": "stream",
     "text": [
      "h\n",
      "e\n",
      "l\n",
      "l\n",
      "o\n",
      "w\n",
      "o\n",
      "r\n",
      "l\n",
      "d\n"
     ]
    }
   ],
   "source": [
    "s=\"hello\"+'world'\n",
    "for i in s:\n",
    "    print(i)\n",
    "\n",
    "#pretty simple, nothing to worry\n",
    "#membership can be used on all kinds of collections.\n",
    "#here we use it in strings\n",
    "#also strings can be cooncatenated easily"
   ]
  },
  {
   "cell_type": "code",
   "execution_count": 21,
   "id": "plain-quick",
   "metadata": {},
   "outputs": [
    {
     "name": "stdout",
     "output_type": "stream",
     "text": [
      "hellodfeuhf\n",
      "\n",
      "hello\n",
      "\n",
      "\n",
      "bhuefe\n"
     ]
    }
   ],
   "source": [
    "s=\"hello\"+'dfeuhf'\n",
    "for i in s:\n",
    "    print(i, end=\"\")\n",
    "print('\\n\\nhello\\n\\n\\nbhuefe')\n",
    "\n",
    "#to not have next line, specify end as empty string\n",
    "# to have extra next lines, use '\\n'"
   ]
  },
  {
   "cell_type": "code",
   "execution_count": 22,
   "id": "broadband-journalist",
   "metadata": {},
   "outputs": [],
   "source": [
    "#6for-ranges.py"
   ]
  },
  {
   "cell_type": "code",
   "execution_count": 23,
   "id": "cubic-setup",
   "metadata": {},
   "outputs": [
    {
     "name": "stdout",
     "output_type": "stream",
     "text": [
      "0\n",
      "1\n",
      "2\n",
      "3\n",
      "4\n",
      "5\n",
      "6\n",
      "7\n",
      "8\n",
      "9\n"
     ]
    }
   ],
   "source": [
    "for i in range(10):\n",
    "    print (i)\n",
    "# start from 0, go for n times. Thus last value of iterator is n-1\n",
    "# again we are preserving the use of variables.\n",
    "# range is a function which allows this\n",
    "# functional paradigm"
   ]
  },
  {
   "cell_type": "code",
   "execution_count": 24,
   "id": "thermal-modification",
   "metadata": {},
   "outputs": [
    {
     "name": "stdout",
     "output_type": "stream",
     "text": [
      "3\n",
      "4\n",
      "5\n",
      "6\n",
      "7\n",
      "8\n",
      "9\n",
      "10\n",
      "11\n"
     ]
    }
   ],
   "source": [
    "for i in range(3,12):\n",
    "    print (i)\n",
    "    \n",
    "#start from a number, and go till the second number-1. Total range(n,m) goes on for m-n iterations"
   ]
  },
  {
   "cell_type": "code",
   "execution_count": 25,
   "id": "quick-windsor",
   "metadata": {},
   "outputs": [
    {
     "name": "stdout",
     "output_type": "stream",
     "text": [
      "4\n",
      "16\n",
      "28\n",
      "40\n"
     ]
    }
   ],
   "source": [
    "for i in range(4,45,12):\n",
    "    print(i)\n",
    "# move in steps, third argument specifies the size of each jump, default 1"
   ]
  },
  {
   "cell_type": "code",
   "execution_count": 26,
   "id": "unable-projector",
   "metadata": {},
   "outputs": [],
   "source": [
    "#7else-in-for.py"
   ]
  },
  {
   "cell_type": "code",
   "execution_count": 27,
   "id": "single-wonder",
   "metadata": {},
   "outputs": [],
   "source": [
    "l=[1,2,3]"
   ]
  },
  {
   "cell_type": "code",
   "execution_count": 28,
   "id": "weighted-surname",
   "metadata": {},
   "outputs": [
    {
     "name": "stdout",
     "output_type": "stream",
     "text": [
      "6\n"
     ]
    }
   ],
   "source": [
    "x=0\n",
    "for i in l:\n",
    "    x=x+i\n",
    "else:\n",
    "    print(x)\n",
    "#The else block just after for/while is executed only when the loop is NOT terminated by a break statement.\n",
    "#basically else is for break if it is there inside the for loop.\n",
    "#If it breaks out of the for loop, then else wont execute. otheriwise it will"
   ]
  },
  {
   "cell_type": "code",
   "execution_count": 29,
   "id": "understanding-public",
   "metadata": {},
   "outputs": [],
   "source": [
    "#8nested-for.py"
   ]
  },
  {
   "cell_type": "code",
   "execution_count": 30,
   "id": "supreme-dayton",
   "metadata": {},
   "outputs": [
    {
     "name": "stdout",
     "output_type": "stream",
     "text": [
      "0 0\n",
      "0 1\n",
      "1 0\n",
      "1 1\n",
      "2 0\n",
      "2 1\n",
      "3 0\n",
      "3 1\n",
      "4 0\n",
      "4 1\n",
      "5 0\n",
      "5 1\n",
      "6 0\n",
      "6 1\n",
      "7 0\n",
      "7 1\n",
      "8 0\n",
      "8 1\n",
      "9 0\n",
      "9 1\n"
     ]
    }
   ],
   "source": [
    "for i in range(10):\n",
    "    for j in range(2):\n",
    "        print (i,j)\n",
    "# nesting"
   ]
  },
  {
   "cell_type": "code",
   "execution_count": 31,
   "id": "composed-helicopter",
   "metadata": {},
   "outputs": [],
   "source": [
    "#9break-and-continue.py"
   ]
  },
  {
   "cell_type": "code",
   "execution_count": 32,
   "id": "catholic-accommodation",
   "metadata": {},
   "outputs": [
    {
     "name": "stdout",
     "output_type": "stream",
     "text": [
      "0\n",
      "1\n",
      "2\n",
      "3\n",
      "2344\n"
     ]
    }
   ],
   "source": [
    "for i in range(4):\n",
    "    print(i)\n",
    "    continue\n",
    "else:\n",
    "    print(2344)\n",
    "#continue does not stop else, only break does, because break only leaves the loop.\n",
    "#Continue just moves to next iteration"
   ]
  },
  {
   "cell_type": "code",
   "execution_count": 33,
   "id": "congressional-motor",
   "metadata": {},
   "outputs": [],
   "source": [
    "#10-while.py, 11-while-else.py"
   ]
  },
  {
   "cell_type": "code",
   "execution_count": 34,
   "id": "improved-overall",
   "metadata": {},
   "outputs": [
    {
     "name": "stdout",
     "output_type": "stream",
     "text": [
      "1\n",
      "2\n",
      "3\n",
      "4\n",
      "5\n",
      "6\n"
     ]
    }
   ],
   "source": [
    "i=0\n",
    "while i<10:\n",
    "    i=i+1\n",
    "    print(i)\n",
    "    if i>5:\n",
    "        break\n",
    "else:\n",
    "    print(\"done\")\n",
    "    #again else used only if it does not break out of the loop"
   ]
  },
  {
   "cell_type": "code",
   "execution_count": 35,
   "id": "pretty-twenty",
   "metadata": {},
   "outputs": [],
   "source": [
    "#12sets.py"
   ]
  },
  {
   "cell_type": "code",
   "execution_count": 36,
   "id": "global-brooklyn",
   "metadata": {},
   "outputs": [
    {
     "name": "stdout",
     "output_type": "stream",
     "text": [
      "{3, 'abc', 2} {3, 4, 5}\n",
      "union {'abc', 3, 2, 4, 5}\n",
      "intersection {3}\n",
      "difference s1-s2 {'abc', 2}\n",
      "difference s2-s1 {4, 5}\n",
      "symmetric difference {'abc', 2, 4, 5}\n"
     ]
    }
   ],
   "source": [
    "s1 = {'abc',2,3}\n",
    "s2 = {3,4,5}\n",
    "s3 = s1|s2  #union operation\n",
    "s4 = s1 & s2     #intersection\n",
    "s5 = s1-s2         #difference\n",
    "s6 = s1^s2       #symmetric difference: either in s1 or s2, but not in both\n",
    "\n",
    "print (s1,s2)\n",
    "print ('union',s3)\n",
    "print ('intersection',s4)\n",
    "print ('difference s1-s2',s5)\n",
    "print ('difference s2-s1',s2-s1)\n",
    "print ('symmetric difference',s6)\n",
    "\n",
    "#set is not ordered, it can display in whichever way it stores most efficiently \n",
    "#and the most efficient accessing order"
   ]
  },
  {
   "cell_type": "code",
   "execution_count": 37,
   "id": "helpful-chain",
   "metadata": {},
   "outputs": [],
   "source": [
    "#13set2list.py"
   ]
  },
  {
   "cell_type": "code",
   "execution_count": 38,
   "id": "exterior-conclusion",
   "metadata": {},
   "outputs": [
    {
     "name": "stdout",
     "output_type": "stream",
     "text": [
      "{0, 1, 2, 3, 356, 'ab', 3.3, 647, 'xyuwsd', 74, 46, 'shu', 345} [0, 1, 2, 3, 356, 'ab', 3.3, 647, 'xyuwsd', 74, 46, 'shu', 345]\n",
      "['a', 'abc', 3, 4, 4, 4] {'a', 'abc', 3, 4}\n"
     ]
    }
   ],
   "source": [
    "s = {2,1,3,46,345,647,74,0,356, \"shu\", \"xyuwsd\", 'ab', 3.3}\n",
    "l = list(s)\n",
    "\n",
    "print (s,l)\n",
    "\n",
    "\n",
    "l = ['a','abc',3,4,4,4]\n",
    "u = set (l)\n",
    "print (l,u)\n",
    "\n",
    "\n",
    "#set can be changed to a list by casting.\n",
    "\n",
    "\n",
    "#it is sorted in some way it seems, mixes when different types come together\n",
    "\n",
    "#list can be converted to a set, repeated elements ossur only once"
   ]
  },
  {
   "cell_type": "code",
   "execution_count": 39,
   "id": "lightweight-dance",
   "metadata": {},
   "outputs": [
    {
     "name": "stdout",
     "output_type": "stream",
     "text": [
      " {0.45, 0.35, 0.3, 3.3, 4.5, 5, 3.5, 5.3, 46.45} \n",
      " [0.45, 0.35, 0.3, 3.3, 4.5, 5, 3.5, 5.3, 46.45]\n"
     ]
    }
   ],
   "source": [
    "s = { 3.3,4.5, 46.45,.45, 5,.35 ,3.5,.35,.3, 5.3, 5.3 ,5.3 }\n",
    "l = list(s)\n",
    "\n",
    "print (\"\",s,'\\n',l)\n",
    "\n",
    "\n",
    "#not very sorted, mixed in places, but seems like integers are always sorted"
   ]
  },
  {
   "cell_type": "code",
   "execution_count": 40,
   "id": "broadband-burke",
   "metadata": {},
   "outputs": [],
   "source": [
    "#14functions.py"
   ]
  },
  {
   "cell_type": "code",
   "execution_count": 41,
   "id": "balanced-avenue",
   "metadata": {},
   "outputs": [
    {
     "name": "stdout",
     "output_type": "stream",
     "text": [
      "20\n"
     ]
    }
   ],
   "source": [
    "def f (a):\n",
    "\tp = a+1\n",
    "\treturn p\n",
    "\n",
    "\n",
    "x = f(19)\n",
    "\n",
    "print (x)\n",
    "\n",
    "#simple"
   ]
  },
  {
   "cell_type": "code",
   "execution_count": 42,
   "id": "ordinary-calvin",
   "metadata": {},
   "outputs": [],
   "source": [
    "#15logical-operators.py"
   ]
  },
  {
   "cell_type": "code",
   "execution_count": 43,
   "id": "tribal-electricity",
   "metadata": {},
   "outputs": [
    {
     "name": "stdout",
     "output_type": "stream",
     "text": [
      "satisfied\n",
      "satisfied\n",
      "satisfied\n"
     ]
    }
   ],
   "source": [
    "x = 0\n",
    "y = 20\n",
    "if x<10 and y>10:\n",
    "\tprint (\"satisfied\")\n",
    "\n",
    "if x>10 or y>10:\n",
    "\tprint (\"satisfied\")\n",
    "\n",
    "if not x>10:\n",
    "\tprint (\"satisfied\")\n",
    "\n",
    "    #and, or, not instead of &&, ||, !"
   ]
  },
  {
   "cell_type": "code",
   "execution_count": 44,
   "id": "authorized-cliff",
   "metadata": {},
   "outputs": [],
   "source": [
    "#16identity.py"
   ]
  },
  {
   "cell_type": "code",
   "execution_count": 45,
   "id": "bacterial-spare",
   "metadata": {},
   "outputs": [
    {
     "name": "stdout",
     "output_type": "stream",
     "text": [
      "it's the same object\n",
      "[1, 2, 3, 10]\n"
     ]
    }
   ],
   "source": [
    "l = [1,2,3]\n",
    "l2 = l\n",
    "\n",
    "if l is l2:\n",
    "\tprint (\"it's the same object\")\n",
    "\n",
    "l2.append (10)\n",
    "\n",
    "print (l)\n",
    "\n",
    "#assignment doesnt create a copy, reference to the original\n",
    "#passign by reference\n",
    "# use .copy() for that"
   ]
  },
  {
   "cell_type": "code",
   "execution_count": 46,
   "id": "religious-galaxy",
   "metadata": {},
   "outputs": [],
   "source": [
    "#17listslicing.py"
   ]
  },
  {
   "cell_type": "code",
   "execution_count": 47,
   "id": "connected-photograph",
   "metadata": {},
   "outputs": [
    {
     "name": "stdout",
     "output_type": "stream",
     "text": [
      "[30, 40]\n",
      "[30, 40, 50, 60]\n",
      "[10, 20, 30]\n"
     ]
    }
   ],
   "source": [
    "l = [10,20,30,40,50,60]\n",
    "\n",
    "l2 = l[2:4]\n",
    "print (l2)\n",
    "\n",
    "l3 = l[2:]\n",
    "print (l3)\n",
    "\n",
    "l4 = l[:3]\n",
    "print (l4)\n",
    "\n",
    "#select slices, a:b selects from a to b-1. Index start from 0\n"
   ]
  },
  {
   "cell_type": "code",
   "execution_count": 48,
   "id": "reserved-compatibility",
   "metadata": {},
   "outputs": [],
   "source": [
    "#18membership.py"
   ]
  },
  {
   "cell_type": "code",
   "execution_count": 49,
   "id": "average-receiver",
   "metadata": {},
   "outputs": [
    {
     "name": "stdout",
     "output_type": "stream",
     "text": [
      "3\n",
      "4\n",
      "h\n",
      "e\n",
      "l\n",
      "l\n",
      "o\n",
      " \n",
      "w\n",
      "o\n",
      "r\n",
      "l\n",
      "d\n"
     ]
    }
   ],
   "source": [
    "l = [1,2,3,4]\n",
    "l2 = [3,4,5,6]\n",
    "\n",
    "for e in l:\n",
    "\tif e in l2:\n",
    "\t\tprint (e)\n",
    "\n",
    "\n",
    "s = \"hello world\"\n",
    "for c in s:\n",
    "\tprint (c)\n",
    "\n"
   ]
  },
  {
   "cell_type": "code",
   "execution_count": 50,
   "id": "finished-mandate",
   "metadata": {},
   "outputs": [],
   "source": [
    "#19list-append-remove.py"
   ]
  },
  {
   "cell_type": "code",
   "execution_count": 51,
   "id": "administrative-queue",
   "metadata": {},
   "outputs": [
    {
     "name": "stdout",
     "output_type": "stream",
     "text": [
      "[1, 3, 4, 5, 10, 2, 100]\n",
      "[3, 4, 10, 2]\n"
     ]
    }
   ],
   "source": [
    "l = [1,2,3,4,5,10,2]\n",
    "l.append(100)\n",
    "l.remove(2) #removes first instance from the list\n",
    "\n",
    "print (l)\n",
    "\n",
    "l.pop(0) #removes item at given index, 1\n",
    "l.pop(2) # removed 5\n",
    "l.pop()  #removes item at the end, 100\n",
    "\n",
    "print (l)\n"
   ]
  },
  {
   "cell_type": "code",
   "execution_count": 52,
   "id": "latin-acrobat",
   "metadata": {},
   "outputs": [],
   "source": [
    "#20higherorderfunctions.py"
   ]
  },
  {
   "cell_type": "code",
   "execution_count": 53,
   "id": "martial-accident",
   "metadata": {},
   "outputs": [
    {
     "name": "stdout",
     "output_type": "stream",
     "text": [
      "10 24\n"
     ]
    }
   ],
   "source": [
    "def f(g,l):\n",
    "\treturn g(l)\n",
    "\n",
    "\n",
    "def func1(l):\n",
    "\tsum=0\n",
    "\tfor x in l:\n",
    "\t\tsum = sum+x\n",
    "\treturn sum\n",
    "\n",
    "\n",
    "def func2(l):\n",
    "\tprod=1\n",
    "\tfor x in l:\n",
    "\t\tprod= prod*x\n",
    "\treturn prod \n",
    "\n",
    "\n",
    "\n",
    "l = [1,2,3,4]\n",
    "\n",
    "v1 = f (func1,l)\n",
    "v2 = f (func2,l)\n",
    "\n",
    "print (v1,v2)\n",
    "\n",
    "#v3=f(10,l)  TypeError: 'int' object is not callable\n",
    "#v4=f(func1, 10) TypeError: 'int' object is not iterable\n",
    "\n",
    "#Two nice errors\n",
    "\n",
    "\n",
    "\n",
    "#Higher order functions, take functions as argument.\n",
    "\n",
    "# Wow, so they are passing the whole functions as parameters and calling from those. Seems like macros.\n",
    "# Will anyway do this later right, ok.\n",
    "\n",
    "#using variables as functions. funstional paradigm\n",
    "#earlier we used to pass objects/pointer, which indirectly passed the member functions as well.\n",
    "# Not this way of directly passing functions was presentin c\n",
    "# We can pass this in C++, in some way it seems."
   ]
  },
  {
   "cell_type": "code",
   "execution_count": 54,
   "id": "constant-victim",
   "metadata": {},
   "outputs": [],
   "source": [
    "#clear"
   ]
  },
  {
   "cell_type": "code",
   "execution_count": 55,
   "id": "sweet-liability",
   "metadata": {},
   "outputs": [
    {
     "name": "stdout",
     "output_type": "stream",
     "text": [
      "[] []\n"
     ]
    }
   ],
   "source": [
    "l = [1,2]\n",
    "l2 = l   # copy operator \n",
    "l.clear()   #clear operator\n",
    "\n",
    "\n",
    "print (l,l2)\n",
    "#clear clears the object for all variables accessing it be reference\n"
   ]
  },
  {
   "cell_type": "code",
   "execution_count": 56,
   "id": "intended-district",
   "metadata": {},
   "outputs": [
    {
     "name": "stdout",
     "output_type": "stream",
     "text": [
      "[] [1, 2]\n"
     ]
    }
   ],
   "source": [
    "l = [1,2]\n",
    "l2 = l.copy()   # copy operator \n",
    "l.clear()   #clear operator\n",
    "\n",
    "\n",
    "print (l,l2)\n",
    "#creating a copy prevents this, obviously"
   ]
  },
  {
   "cell_type": "code",
   "execution_count": 57,
   "id": "imposed-median",
   "metadata": {},
   "outputs": [],
   "source": [
    "#delete"
   ]
  },
  {
   "cell_type": "code",
   "execution_count": 58,
   "id": "beautiful-following",
   "metadata": {},
   "outputs": [
    {
     "name": "stdout",
     "output_type": "stream",
     "text": [
      "[1, 3, 4]\n",
      "[1, 3, 4]\n"
     ]
    }
   ],
   "source": [
    "l = [1,3,4]\n",
    "l2 = l\n",
    "\n",
    "print (l)\n",
    "del (l)\n",
    "\n",
    "print (l2)\n",
    "#print (l)\n",
    "\n",
    "\n",
    "del (l2)\n",
    "#print (l2)\n",
    "\n",
    "#delete only deletes that variable, not the object\n",
    "# when the last variable referencing to that object is deleted, the whole object gets deleted as well\n",
    "#commented ones will give error if executed"
   ]
  },
  {
   "cell_type": "code",
   "execution_count": 59,
   "id": "irish-passing",
   "metadata": {},
   "outputs": [],
   "source": [
    "#print on same line"
   ]
  },
  {
   "cell_type": "code",
   "execution_count": 60,
   "id": "figured-broad",
   "metadata": {},
   "outputs": [
    {
     "name": "stdout",
     "output_type": "stream",
     "text": [
      "1 2 4\n",
      "1 2 4\n"
     ]
    }
   ],
   "source": [
    "a = 1\n",
    "b = 2\n",
    "c = 4\n",
    "print (a,b,c),\n",
    "print (a,b,c,end=\"\\n\")\n",
    "\n",
    "# dont see the purpose yet, meh!\n"
   ]
  },
  {
   "cell_type": "code",
   "execution_count": 61,
   "id": "motivated-eleven",
   "metadata": {},
   "outputs": [],
   "source": [
    "#21range.py"
   ]
  },
  {
   "cell_type": "code",
   "execution_count": 62,
   "id": "active-newton",
   "metadata": {},
   "outputs": [],
   "source": [
    "a=range(10)"
   ]
  },
  {
   "cell_type": "code",
   "execution_count": 63,
   "id": "dimensional-center",
   "metadata": {},
   "outputs": [
    {
     "name": "stdout",
     "output_type": "stream",
     "text": [
      "range(0, 10)\n"
     ]
    }
   ],
   "source": [
    "print(a)\n",
    "# we dont want to storef the whoel thing and take up space. Thus we keep and show it as range( ) only,\n",
    "# unless casted to a list. Then it becomes a proper list.\n",
    "# This is usually used for iteration"
   ]
  },
  {
   "cell_type": "code",
   "execution_count": null,
   "id": "limiting-start",
   "metadata": {},
   "outputs": [],
   "source": []
  },
  {
   "cell_type": "code",
   "execution_count": 64,
   "id": "terminal-galaxy",
   "metadata": {},
   "outputs": [],
   "source": [
    "#python interprests the stuff and thus executes until it finds an error.\n",
    "# But in case we have an indentation error at the end, none of the lines are executed.\n",
    "\n",
    "#This means that the interpreter does check in some way before executing line-by-line\n"
   ]
  },
  {
   "cell_type": "code",
   "execution_count": 65,
   "id": "digital-wagner",
   "metadata": {},
   "outputs": [],
   "source": [
    "#lambda_expression.py"
   ]
  },
  {
   "cell_type": "code",
   "execution_count": 80,
   "id": "worst-withdrawal",
   "metadata": {},
   "outputs": [
    {
     "name": "stdout",
     "output_type": "stream",
     "text": [
      "81\n"
     ]
    }
   ],
   "source": [
    "def f(x):\n",
    "    return lambda x:x**4\n",
    "\n",
    "print(f(2)(3))"
   ]
  },
  {
   "cell_type": "code",
   "execution_count": 83,
   "id": "electronic-toolbox",
   "metadata": {},
   "outputs": [
    {
     "name": "stdout",
     "output_type": "stream",
     "text": [
      "40\n"
     ]
    }
   ],
   "source": [
    "def f(x):\n",
    "    return lambda y:y*x\n",
    "\n",
    "g1=f(10)\n",
    "g2=f(20)\n",
    "g3=f(30)\n",
    "\n",
    "# All g are different functions\n",
    "\n",
    "\n",
    "\n",
    "v=g1(4)\n",
    "\n",
    "\n",
    "print(v)"
   ]
  },
  {
   "cell_type": "code",
   "execution_count": 85,
   "id": "offshore-requirement",
   "metadata": {},
   "outputs": [],
   "source": [
    "#By definition lambda functions take in only one argument, but we can nest it in a way so as to have it take in multiple expressions"
   ]
  },
  {
   "cell_type": "code",
   "execution_count": 96,
   "id": "assigned-career",
   "metadata": {},
   "outputs": [],
   "source": [
    "f= lambda x:lambda y: x+y"
   ]
  },
  {
   "cell_type": "code",
   "execution_count": 97,
   "id": "choice-evidence",
   "metadata": {},
   "outputs": [
    {
     "data": {
      "text/plain": [
       "<function __main__.<lambda>.<locals>.<lambda>(y)>"
      ]
     },
     "execution_count": 97,
     "metadata": {},
     "output_type": "execute_result"
    }
   ],
   "source": [
    "f(3)"
   ]
  },
  {
   "cell_type": "code",
   "execution_count": 98,
   "id": "possible-restaurant",
   "metadata": {},
   "outputs": [
    {
     "data": {
      "text/plain": [
       "4"
      ]
     },
     "execution_count": 98,
     "metadata": {},
     "output_type": "execute_result"
    }
   ],
   "source": [
    "f(3)(1)"
   ]
  },
  {
   "cell_type": "code",
   "execution_count": 102,
   "id": "duplicate-technical",
   "metadata": {},
   "outputs": [],
   "source": [
    "#f(3,5), not like this."
   ]
  },
  {
   "cell_type": "code",
   "execution_count": null,
   "id": "cosmetic-experiment",
   "metadata": {},
   "outputs": [],
   "source": []
  },
  {
   "cell_type": "code",
   "execution_count": 90,
   "id": "aggressive-toolbox",
   "metadata": {},
   "outputs": [],
   "source": [
    "g= lambda x: x*x if x>0 else -1*x*x*x if x<-5 else 6"
   ]
  },
  {
   "cell_type": "code",
   "execution_count": 91,
   "id": "appreciated-theology",
   "metadata": {},
   "outputs": [
    {
     "data": {
      "text/plain": [
       "9"
      ]
     },
     "execution_count": 91,
     "metadata": {},
     "output_type": "execute_result"
    }
   ],
   "source": [
    "g(3)"
   ]
  },
  {
   "cell_type": "code",
   "execution_count": 92,
   "id": "pregnant-confusion",
   "metadata": {},
   "outputs": [
    {
     "data": {
      "text/plain": [
       "6"
      ]
     },
     "execution_count": 92,
     "metadata": {},
     "output_type": "execute_result"
    }
   ],
   "source": [
    "g(-2)"
   ]
  },
  {
   "cell_type": "code",
   "execution_count": 93,
   "id": "intense-advertising",
   "metadata": {},
   "outputs": [
    {
     "data": {
      "text/plain": [
       "216"
      ]
     },
     "execution_count": 93,
     "metadata": {},
     "output_type": "execute_result"
    }
   ],
   "source": [
    "g(-6)"
   ]
  },
  {
   "cell_type": "code",
   "execution_count": 94,
   "id": "cosmetic-funds",
   "metadata": {},
   "outputs": [
    {
     "data": {
      "text/plain": [
       "6"
      ]
     },
     "execution_count": 94,
     "metadata": {},
     "output_type": "execute_result"
    }
   ],
   "source": [
    "g(-5)"
   ]
  },
  {
   "cell_type": "code",
   "execution_count": null,
   "id": "announced-perception",
   "metadata": {},
   "outputs": [],
   "source": []
  }
 ],
 "metadata": {
  "kernelspec": {
   "display_name": "Python 3",
   "language": "python",
   "name": "python3"
  },
  "language_info": {
   "codemirror_mode": {
    "name": "ipython",
    "version": 3
   },
   "file_extension": ".py",
   "mimetype": "text/x-python",
   "name": "python",
   "nbconvert_exporter": "python",
   "pygments_lexer": "ipython3",
   "version": "3.8.5"
  }
 },
 "nbformat": 4,
 "nbformat_minor": 5
}
